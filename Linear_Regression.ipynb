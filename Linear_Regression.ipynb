{
  "nbformat": 4,
  "nbformat_minor": 0,
  "metadata": {
    "colab": {
      "name": "Linear Regression.ipynb",
      "provenance": [],
      "collapsed_sections": [],
      "authorship_tag": "ABX9TyMrBGnwIRTW3kJUFIyH4sHw"
    },
    "kernelspec": {
      "name": "python3",
      "display_name": "Python 3"
    },
    "language_info": {
      "name": "python"
    }
  },
  "cells": [
    {
      "cell_type": "markdown",
      "metadata": {
        "id": "HuVgnOxoFNqd"
      },
      "source": [
        "아래와 같이 데이터가 주어졌을 때, Linear Regression을 이용하여 최적의 W와 b를 찾으시오.\n",
        "\n",
        "X = [1, 3, 5, 7, 9]\n",
        "\n",
        "Y = [5, 9, 13, 17, 21]\n"
      ]
    },
    {
      "cell_type": "code",
      "metadata": {
        "id": "Ajy8yKa_FDNv"
      },
      "source": [
        "import numpy as np"
      ],
      "execution_count": 1,
      "outputs": []
    },
    {
      "cell_type": "code",
      "metadata": {
        "id": "UixsSUYOFf2W"
      },
      "source": [
        "class Regression:\n",
        "  def __init__(self, X, Y, lr):\n",
        "    self.X = X\n",
        "    self.Y = Y\n",
        "    self.lr = lr\n",
        "\n",
        "    self.W = np.random.rand(1)[0]\n",
        "    self.b = np.random.rand(1)[0]\n",
        "\n",
        "\n",
        "  def loss_func(self):\n",
        "    hypothesis = self.X * self.W + self.b\n",
        "    return np.mean((hypothesis - self.Y) ** 2)\n",
        "\n",
        "\n",
        "  def train(self):\n",
        "    epochs = 3000\n",
        "    for epoch in range(epochs):\n",
        "\n",
        "      hypothesis = self.X * self.W + self.b\n",
        "\n",
        "      # 파라미터 update \n",
        "      gradient_W = np.mean((hypothesis - self.Y) * self.X)\n",
        "      gradient_b = np.mean(hypothesis - self.Y)\n",
        "      self.W -= gradient_W * self.lr\n",
        "      self.b -= gradient_b * self.lr\n",
        "\n",
        "      if (epoch + 1) % 100 == 0:\n",
        "        print('Epoch: {:5d}   Loss: {:10f}   W: {:5f}   b: {:5f}'.format(epoch + 1, self.loss_func(), self.W, self.b))\n",
        "\n",
        "\n",
        "  def predict(self, X):\n",
        "    return X * self.W + self.b\n"
      ],
      "execution_count": 96,
      "outputs": []
    },
    {
      "cell_type": "code",
      "metadata": {
        "id": "YqK0o4XrFWLJ"
      },
      "source": [
        "X = np.array([1, 3, 5, 7, 9])\n",
        "Y = np.array([5, 9, 13, 17, 21])\n",
        "# 정답 : W = 2, b = 3"
      ],
      "execution_count": 97,
      "outputs": []
    },
    {
      "cell_type": "code",
      "metadata": {
        "id": "T864_0cyGIAX"
      },
      "source": [
        "model = Regression(X, Y, 0.01)"
      ],
      "execution_count": 98,
      "outputs": []
    },
    {
      "cell_type": "code",
      "metadata": {
        "colab": {
          "base_uri": "https://localhost:8080/"
        },
        "id": "a8sIEHWjGNlh",
        "outputId": "794e1325-dec0-4ce9-a57e-674bac477d82"
      },
      "source": [
        "model.train()"
      ],
      "execution_count": 99,
      "outputs": [
        {
          "output_type": "stream",
          "name": "stdout",
          "text": [
            "Epoch:   100   Loss:   0.811644   W: 2.279219   b: 1.170386\n",
            "Epoch:   200   Loss:   0.505026   W: 2.220251   b: 1.556778\n",
            "Epoch:   300   Loss:   0.314240   W: 2.173737   b: 1.861568\n",
            "Epoch:   400   Loss:   0.195528   W: 2.137046   b: 2.101991\n",
            "Epoch:   500   Loss:   0.121662   W: 2.108104   b: 2.291639\n",
            "Epoch:   600   Loss:   0.075701   W: 2.085274   b: 2.441236\n",
            "Epoch:   700   Loss:   0.047103   W: 2.067265   b: 2.559240\n",
            "Epoch:   800   Loss:   0.029309   W: 2.053059   b: 2.652323\n",
            "Epoch:   900   Loss:   0.018237   W: 2.041854   b: 2.725748\n",
            "Epoch:  1000   Loss:   0.011347   W: 2.033015   b: 2.783667\n",
            "Epoch:  1100   Loss:   0.007061   W: 2.026043   b: 2.829353\n",
            "Epoch:  1200   Loss:   0.004393   W: 2.020543   b: 2.865392\n",
            "Epoch:  1300   Loss:   0.002734   W: 2.016204   b: 2.893819\n",
            "Epoch:  1400   Loss:   0.001701   W: 2.012782   b: 2.916243\n",
            "Epoch:  1500   Loss:   0.001058   W: 2.010083   b: 2.933932\n",
            "Epoch:  1600   Loss:   0.000659   W: 2.007953   b: 2.947885\n",
            "Epoch:  1700   Loss:   0.000410   W: 2.006274   b: 2.958891\n",
            "Epoch:  1800   Loss:   0.000255   W: 2.004949   b: 2.967572\n",
            "Epoch:  1900   Loss:   0.000159   W: 2.003904   b: 2.974421\n",
            "Epoch:  2000   Loss:   0.000099   W: 2.003079   b: 2.979823\n",
            "Epoch:  2100   Loss:   0.000061   W: 2.002429   b: 2.984084\n",
            "Epoch:  2200   Loss:   0.000038   W: 2.001916   b: 2.987445\n",
            "Epoch:  2300   Loss:   0.000024   W: 2.001511   b: 2.990097\n",
            "Epoch:  2400   Loss:   0.000015   W: 2.001192   b: 2.992188\n",
            "Epoch:  2500   Loss:   0.000009   W: 2.000940   b: 2.993838\n",
            "Epoch:  2600   Loss:   0.000006   W: 2.000742   b: 2.995139\n",
            "Epoch:  2700   Loss:   0.000004   W: 2.000585   b: 2.996166\n",
            "Epoch:  2800   Loss:   0.000002   W: 2.000462   b: 2.996976\n",
            "Epoch:  2900   Loss:   0.000001   W: 2.000364   b: 2.997614\n",
            "Epoch:  3000   Loss:   0.000001   W: 2.000287   b: 2.998118\n"
          ]
        }
      ]
    },
    {
      "cell_type": "code",
      "metadata": {
        "colab": {
          "base_uri": "https://localhost:8080/"
        },
        "id": "kPB-xEvrJY_d",
        "outputId": "277cf050-fb86-45c8-c678-82a76d4d81ae"
      },
      "source": [
        "X_test = np.array([11, 12, 13, 14, 15])\n",
        "Y_test = np.array([25, 27, 29, 31, 33])\n",
        "\n",
        "predict = model.predict(X_test)\n",
        "print(predict)\n",
        "print(np.around(predict).astype('int32'))\n",
        "print('최종 W: {:10f}, b: {:10f}'.format(model.W, model.b))"
      ],
      "execution_count": 103,
      "outputs": [
        {
          "output_type": "stream",
          "name": "stdout",
          "text": [
            "[25.00127729 27.00156449 29.0018517  31.0021389  33.0024261 ]\n",
            "[25 27 29 31 33]\n",
            "최종 W:   2.000287, b:   2.998118\n"
          ]
        }
      ]
    },
    {
      "cell_type": "code",
      "metadata": {
        "id": "tqPidqfSMQvw"
      },
      "source": [
        ""
      ],
      "execution_count": null,
      "outputs": []
    }
  ]
}