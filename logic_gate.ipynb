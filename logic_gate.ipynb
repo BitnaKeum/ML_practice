{
  "nbformat": 4,
  "nbformat_minor": 0,
  "metadata": {
    "colab": {
      "name": "logic_gate.ipynb",
      "provenance": [],
      "collapsed_sections": [],
      "authorship_tag": "ABX9TyM4YVzx+9tI7vJePLVoVM3o"
    },
    "kernelspec": {
      "name": "python3",
      "display_name": "Python 3"
    },
    "language_info": {
      "name": "python"
    }
  },
  "cells": [
    {
      "cell_type": "markdown",
      "metadata": {
        "id": "BI31TyfUapFy"
      },
      "source": [
        "XOR => NAND와 OR의 연산 결과에 AND를 씌워서 구해야 한다!\n"
      ]
    },
    {
      "cell_type": "code",
      "metadata": {
        "id": "qyTQXACGJUJh"
      },
      "source": [
        "import numpy as np"
      ],
      "execution_count": 1,
      "outputs": []
    },
    {
      "cell_type": "code",
      "metadata": {
        "id": "IOKxKV0INFmg"
      },
      "source": [
        "def sigmoid(x):\n",
        "  return 1 / (1 + np.exp(-x))"
      ],
      "execution_count": 11,
      "outputs": []
    },
    {
      "cell_type": "code",
      "metadata": {
        "id": "MTUT2xVoJtWa"
      },
      "source": [
        "class LogicGate:\n",
        "  def __init__(self, input_data, target_data, lr):\n",
        "    self.input_data = input_data.reshape(4, 2)\n",
        "    self.target_data = target_data.reshape(4, 1)\n",
        "    self.lr = lr\n",
        "\n",
        "    self.W = np.random.randn(2, 1)\n",
        "    self.b = np.random.rand(1)\n",
        "\n",
        "\n",
        "  def loss_func(self):\n",
        "    delta = 1e-5\n",
        "    return -np.mean(self.target_data * np.log(self.O + delta) + (1 - self.target_data) * np.log(1 - self.O + delta))\n",
        "\n",
        "\n",
        "  def train(self):\n",
        "    n = target_data.shape[0]\n",
        "\n",
        "    for step in range(8000):\n",
        "\n",
        "      self.O = sigmoid(np.dot(self.input_data, self.W) + self.b)\n",
        "\n",
        "      self.W -= np.dot(self.input_data.T, self.O - self.target_data) / n * self.lr\n",
        "      self.b -= np.mean(self.O - self.target_data) * self.lr\n",
        "\n",
        "      if step % 200 == 0:\n",
        "        print('step: ', step, ', loss: ', self.loss_func())\n",
        "\n",
        "\n",
        "  def predict(self, input_data):\n",
        "    O = sigmoid(np.dot(input_data, self.W) + self.b)\n",
        "\n",
        "    output_data = np.around(O) # 0.5 기준으로 반올림\n",
        "    output_data = output_data.astype('int32')\n",
        "\n",
        "    if len(output_data) == 1:\n",
        "      return output_data[0]\n",
        "    else:\n",
        "      return output_data\n"
      ],
      "execution_count": 211,
      "outputs": []
    },
    {
      "cell_type": "code",
      "metadata": {
        "colab": {
          "base_uri": "https://localhost:8080/"
        },
        "id": "y-oIJgz84-XU",
        "outputId": "245c1f84-0576-4ab2-f659-949314f49327"
      },
      "source": [
        "# NAND\n",
        "\n",
        "input_data = np.array([[0,0], [0,1], [1,0], [1,1]])\n",
        "target_data = np.array([1, 1, 1, 0])\n",
        "\n",
        "NAND_gate = LogicGate(input_data, target_data, 0.01)\n",
        "NAND_gate.train()"
      ],
      "execution_count": 212,
      "outputs": [
        {
          "output_type": "stream",
          "name": "stdout",
          "text": [
            "step:  0 , loss:  0.8463327832854012\n",
            "step:  200 , loss:  0.6737433484383224\n",
            "step:  400 , loss:  0.5901405974279135\n",
            "step:  600 , loss:  0.5374499473504563\n",
            "step:  800 , loss:  0.4972942467031738\n",
            "step:  1000 , loss:  0.46393017210947307\n",
            "step:  1200 , loss:  0.43528113679797736\n",
            "step:  1400 , loss:  0.4103456993737048\n",
            "step:  1600 , loss:  0.3884750618500339\n",
            "step:  1800 , loss:  0.3691725364144869\n",
            "step:  2000 , loss:  0.3520339641624303\n",
            "step:  2200 , loss:  0.33672507491803627\n",
            "step:  2400 , loss:  0.3229686506466418\n",
            "step:  2600 , loss:  0.31053482360772416\n",
            "step:  2800 , loss:  0.2992329778226519\n",
            "step:  3000 , loss:  0.28890489291526517\n",
            "step:  3200 , loss:  0.2794189862593146\n",
            "step:  3400 , loss:  0.2706655285661867\n",
            "step:  3600 , loss:  0.2625527027084548\n",
            "step:  3800 , loss:  0.25500337726945893\n",
            "step:  4000 , loss:  0.247952475950019\n",
            "step:  4200 , loss:  0.2413448378646533\n",
            "step:  4400 , loss:  0.23513347890314001\n",
            "step:  4600 , loss:  0.22927817892356223\n",
            "step:  4800 , loss:  0.2237443326921859\n",
            "step:  5000 , loss:  0.21850201386385193\n",
            "step:  5200 , loss:  0.2135252108852501\n",
            "step:  5400 , loss:  0.20879120164007225\n",
            "step:  5600 , loss:  0.20428004014287068\n",
            "step:  5800 , loss:  0.1999741338459723\n",
            "step:  6000 , loss:  0.19585789435872064\n",
            "step:  6200 , loss:  0.19191744777570166\n",
            "step:  6400 , loss:  0.18814039352909107\n",
            "step:  6600 , loss:  0.184515602852397\n",
            "step:  6800 , loss:  0.18103304967750689\n",
            "step:  7000 , loss:  0.17768366817244613\n",
            "step:  7200 , loss:  0.17445923223467777\n",
            "step:  7400 , loss:  0.17135225314097147\n",
            "step:  7600 , loss:  0.16835589226515624\n",
            "step:  7800 , loss:  0.16546388634537662\n"
          ]
        }
      ]
    },
    {
      "cell_type": "code",
      "metadata": {
        "colab": {
          "base_uri": "https://localhost:8080/"
        },
        "id": "PKlTmp4n-EXQ",
        "outputId": "c9a60ca1-8246-4ae8-c524-11ebcdd3ae69"
      },
      "source": [
        "NAND_gate.predict(np.array([[0,0], [1,1], [1,0], [0,1]]))"
      ],
      "execution_count": 213,
      "outputs": [
        {
          "output_type": "execute_result",
          "data": {
            "text/plain": [
              "array([[1],\n",
              "       [0],\n",
              "       [1],\n",
              "       [1]], dtype=int32)"
            ]
          },
          "metadata": {},
          "execution_count": 213
        }
      ]
    },
    {
      "cell_type": "code",
      "metadata": {
        "colab": {
          "base_uri": "https://localhost:8080/"
        },
        "id": "NYQjzEQY5PkF",
        "outputId": "300d9981-3c9b-40fd-ed65-0e123608f171"
      },
      "source": [
        "# OR\n",
        "\n",
        "input_data = np.array([[0,0], [0,1], [1,0], [1,1]])\n",
        "target_data = np.array([0, 1, 1, 1])\n",
        "\n",
        "OR_gate = LogicGate(input_data, target_data, 0.01)\n",
        "OR_gate.train()"
      ],
      "execution_count": 214,
      "outputs": [
        {
          "output_type": "stream",
          "name": "stdout",
          "text": [
            "step:  0 , loss:  0.4691555182146002\n",
            "step:  200 , loss:  0.4058054584533757\n",
            "step:  400 , loss:  0.372047894071055\n",
            "step:  600 , loss:  0.3480961796226333\n",
            "step:  800 , loss:  0.32852719867727126\n",
            "step:  1000 , loss:  0.3114888739195213\n",
            "step:  1200 , loss:  0.29622043082980837\n",
            "step:  1400 , loss:  0.2823463020438924\n",
            "step:  1600 , loss:  0.2696438590173615\n",
            "step:  1800 , loss:  0.25795895644681743\n",
            "step:  2000 , loss:  0.24717272585004177\n",
            "step:  2200 , loss:  0.23718748669956874\n",
            "step:  2400 , loss:  0.2279201851324043\n",
            "step:  2600 , loss:  0.21929894129901484\n",
            "step:  2800 , loss:  0.211260954175229\n",
            "step:  3000 , loss:  0.20375104899951238\n",
            "step:  3200 , loss:  0.1967205666669793\n",
            "step:  3400 , loss:  0.19012646297140054\n",
            "step:  3600 , loss:  0.1839305551001557\n",
            "step:  3800 , loss:  0.17809888192156298\n",
            "step:  4000 , loss:  0.17260115722984598\n",
            "step:  4200 , loss:  0.1674103010026536\n",
            "step:  4400 , loss:  0.16250203686701736\n",
            "step:  4600 , loss:  0.15785454596791493\n",
            "step:  4800 , loss:  0.15344816892179552\n",
            "step:  5000 , loss:  0.14926514875760302\n",
            "step:  5200 , loss:  0.14528940879090682\n",
            "step:  5400 , loss:  0.14150636027861538\n",
            "step:  5600 , loss:  0.13790273548017676\n",
            "step:  5800 , loss:  0.13446644241913155\n",
            "step:  6000 , loss:  0.13118643820840883\n",
            "step:  6200 , loss:  0.12805261828575054\n",
            "step:  6400 , loss:  0.12505571931357576\n",
            "step:  6600 , loss:  0.12218723384116073\n",
            "step:  6800 , loss:  0.11943933511591454\n",
            "step:  7000 , loss:  0.11680481067325964\n",
            "step:  7200 , loss:  0.11427700353861474\n",
            "step:  7400 , loss:  0.11184976004648968\n",
            "step:  7600 , loss:  0.10951738342609016\n",
            "step:  7800 , loss:  0.10727459242455686\n"
          ]
        }
      ]
    },
    {
      "cell_type": "code",
      "metadata": {
        "colab": {
          "base_uri": "https://localhost:8080/"
        },
        "id": "kna4Ahq1-W_n",
        "outputId": "ab5d763d-748f-4022-9f90-4f85d03952a1"
      },
      "source": [
        "OR_gate.predict(np.array([[0,0],[1,1], [1,0], [0,1]]))"
      ],
      "execution_count": 215,
      "outputs": [
        {
          "output_type": "execute_result",
          "data": {
            "text/plain": [
              "array([[0],\n",
              "       [1],\n",
              "       [1],\n",
              "       [1]], dtype=int32)"
            ]
          },
          "metadata": {},
          "execution_count": 215
        }
      ]
    },
    {
      "cell_type": "code",
      "metadata": {
        "colab": {
          "base_uri": "https://localhost:8080/"
        },
        "id": "uXEBJ0jTWNci",
        "outputId": "42cd9a8f-f252-4d6c-b174-cb1f775c4244"
      },
      "source": [
        "# AND\n",
        "\n",
        "input_data = np.array([[0,0], [0,1], [1,0], [1,1]])\n",
        "target_data = np.array([0, 0, 0, 1])\n",
        "\n",
        "AND_gate = LogicGate(input_data, target_data, 0.01)\n",
        "AND_gate.train()"
      ],
      "execution_count": 216,
      "outputs": [
        {
          "output_type": "stream",
          "name": "stdout",
          "text": [
            "step:  0 , loss:  0.9120696151223849\n",
            "step:  200 , loss:  0.7971451522972257\n",
            "step:  400 , loss:  0.7179395329688583\n",
            "step:  600 , loss:  0.6556229884890046\n",
            "step:  800 , loss:  0.6036628291278574\n",
            "step:  1000 , loss:  0.5593510574252687\n",
            "step:  1200 , loss:  0.5211861495070014\n",
            "step:  1400 , loss:  0.4881012696280685\n",
            "step:  1600 , loss:  0.45924677456332474\n",
            "step:  1800 , loss:  0.43392456735098184\n",
            "step:  2000 , loss:  0.4115593890873847\n",
            "step:  2200 , loss:  0.39167850941197885\n",
            "step:  2400 , loss:  0.3738942354376634\n",
            "step:  2600 , loss:  0.35788865206047105\n",
            "step:  2800 , loss:  0.3434006486204358\n",
            "step:  3000 , loss:  0.33021515016110536\n",
            "step:  3200 , loss:  0.31815432456166726\n",
            "step:  3400 , loss:  0.30707047618284744\n",
            "step:  3600 , loss:  0.29684033606243443\n",
            "step:  3800 , loss:  0.2873604871674815\n",
            "step:  4000 , loss:  0.2785437017257769\n",
            "step:  4200 , loss:  0.27031600655868293\n",
            "step:  4400 , loss:  0.262614327402098\n",
            "step:  4600 , loss:  0.2553845930364194\n",
            "step:  4800 , loss:  0.24858020460434826\n",
            "step:  5000 , loss:  0.24216079530716828\n",
            "step:  5200 , loss:  0.23609122145308392\n",
            "step:  5400 , loss:  0.23034073830652374\n",
            "step:  5600 , loss:  0.2248823240022354\n",
            "step:  5800 , loss:  0.2196921224906954\n",
            "step:  6000 , loss:  0.21474898252081315\n",
            "step:  6200 , loss:  0.210034074402296\n",
            "step:  6400 , loss:  0.20553057000843256\n",
            "step:  6600 , loss:  0.2012233744042219\n",
            "step:  6800 , loss:  0.1970988997893673\n",
            "step:  7000 , loss:  0.1931448742665775\n",
            "step:  7200 , loss:  0.18935017938845905\n",
            "step:  7400 , loss:  0.1857047115830178\n",
            "step:  7600 , loss:  0.18219926347211518\n",
            "step:  7800 , loss:  0.17882542182866018\n"
          ]
        }
      ]
    },
    {
      "cell_type": "code",
      "metadata": {
        "colab": {
          "base_uri": "https://localhost:8080/"
        },
        "id": "K3T-SRxP-kP0",
        "outputId": "c5a10626-bdfc-422e-9f69-ba9b9f80ed11"
      },
      "source": [
        "AND_gate.predict(np.array([[0,0], [1,1], [1,0], [0,1]]))"
      ],
      "execution_count": 217,
      "outputs": [
        {
          "output_type": "execute_result",
          "data": {
            "text/plain": [
              "array([[0],\n",
              "       [1],\n",
              "       [0],\n",
              "       [0]], dtype=int32)"
            ]
          },
          "metadata": {},
          "execution_count": 217
        }
      ]
    },
    {
      "cell_type": "code",
      "metadata": {
        "colab": {
          "base_uri": "https://localhost:8080/"
        },
        "id": "UksYZg-i8sRn",
        "outputId": "37fbb229-1b8e-4898-9473-f862b9514372"
      },
      "source": [
        "# XOR\n",
        "\n",
        "test_data = np.array([[0,1], [0,0], [1,1], [1,0]])\n",
        "\n",
        "AND_input_data = np.zeros(test_data.shape)  # NAND와 OR 연산 결과를 저장\n",
        "\n",
        "for idx in range(len(test_data)):\n",
        "  data = test_data[idx]\n",
        "  AND_input_data[idx] = [NAND_gate.predict(data), OR_gate.predict(data)]\n",
        "\n",
        "print('Input\\n', test_data)\n",
        "print('\\nOutput\\n', AND_gate.predict(AND_input_data))"
      ],
      "execution_count": 219,
      "outputs": [
        {
          "output_type": "stream",
          "name": "stdout",
          "text": [
            "Input\n",
            " [[0 1]\n",
            " [0 0]\n",
            " [1 1]\n",
            " [1 0]]\n",
            "\n",
            "Output\n",
            " [[1]\n",
            " [0]\n",
            " [0]\n",
            " [1]]\n"
          ]
        }
      ]
    },
    {
      "cell_type": "code",
      "metadata": {
        "id": "qVadrz4N72Pq"
      },
      "source": [
        ""
      ],
      "execution_count": null,
      "outputs": []
    }
  ]
}