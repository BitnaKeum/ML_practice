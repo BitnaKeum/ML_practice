{
  "nbformat": 4,
  "nbformat_minor": 0,
  "metadata": {
    "colab": {
      "name": "Convolution 2D.ipynb",
      "provenance": [],
      "collapsed_sections": [],
      "authorship_tag": "ABX9TyMmdcVaEHxoi2UFkL0V4nl7"
    },
    "kernelspec": {
      "name": "python3",
      "display_name": "Python 3"
    },
    "language_info": {
      "name": "python"
    }
  },
  "cells": [
    {
      "cell_type": "markdown",
      "metadata": {
        "id": "BgviARdjqBMe"
      },
      "source": [
        "Numpy를 이용하여 Convolution 2D 연산을 구현하시오."
      ]
    },
    {
      "cell_type": "code",
      "metadata": {
        "id": "PXcbEhbOql2Q"
      },
      "source": [
        "import numpy as np"
      ],
      "execution_count": 2,
      "outputs": []
    },
    {
      "cell_type": "code",
      "metadata": {
        "colab": {
          "base_uri": "https://localhost:8080/"
        },
        "id": "uEqqt9-is1g3",
        "outputId": "98ad5ccb-d6e8-4183-91a0-a4bd75081cf3"
      },
      "source": [
        "X = np.array([\n",
        "                [ \n",
        "                 [[1, 2, 9, 2, 7], \n",
        "                  [5, 0, 3, 1, 8],                                    \n",
        "                  [4, 1, 3, 0, 6], \n",
        "                  [2, 5, 2, 9, 5], \n",
        "                  [6, 5, 1, 3, 2]], \n",
        "                 [[4, 5, 7, 0, 8], \n",
        "                  [5, 8, 5, 3, 5], \n",
        "                  [4, 2, 1, 6, 5], \n",
        "                  [7, 3, 2, 1, 0], \n",
        "                  [6, 1, 2, 2, 6]], \n",
        "                 [[3, 7, 4, 5, 0], \n",
        "                  [5, 4, 6, 8, 9], \n",
        "                  [6, 1, 9, 1, 6], \n",
        "                  [9, 3, 0, 2, 4], \n",
        "                  [1, 2, 5, 5, 2]] \n",
        "                 ], \n",
        "                [ \n",
        "                 [[7, 2, 1, 4, 2], \n",
        "                  [5, 4, 6, 5, 0], \n",
        "                  [1, 2, 4, 2, 8], \n",
        "                  [5, 9, 0, 5, 1], \n",
        "                  [7, 6, 2, 4, 6]], \n",
        "                 [[5, 4, 2, 5, 7], \n",
        "                  [6, 1, 4, 0, 5], \n",
        "                  [8, 9, 4, 7, 6], \n",
        "                  [4, 5, 5, 6, 7], \n",
        "                  [1, 2, 7, 4, 1]], \n",
        "                 [[7, 4, 8, 9, 7], \n",
        "                  [5, 5, 8, 1, 4], \n",
        "                  [3, 2, 2, 5, 2], \n",
        "                  [1, 0, 3, 7, 6], \n",
        "                  [4, 5, 4, 5, 5]] \n",
        "                 ] \n",
        "                ]) \n",
        "print('Images:', X.shape)"
      ],
      "execution_count": 53,
      "outputs": [
        {
          "output_type": "stream",
          "name": "stdout",
          "text": [
            "Images: (2, 3, 5, 5)\n"
          ]
        }
      ]
    },
    {
      "cell_type": "code",
      "metadata": {
        "colab": {
          "base_uri": "https://localhost:8080/"
        },
        "id": "PxzOZApts7ik",
        "outputId": "4310619f-7dd1-4509-cecf-5d0f4096a92d"
      },
      "source": [
        "filters = np.array([\n",
        "                      [ \n",
        "                       [[1, 0, 1], \n",
        "                        [0, 1, 0], \n",
        "                        [1, 0, 1]], \n",
        "                       [[3, 1, 3], \n",
        "                        [1, 3, 1], \n",
        "                        [3, 1, 3]], \n",
        "                       [[1, 2, 1], \n",
        "                        [2, 2, 2], \n",
        "                        [1, 2, 1]] \n",
        "                       ],\n",
        "                      [ \n",
        "                       [[5, 1, 5], \n",
        "                        [2, 1, 2], \n",
        "                        [5, 1, 5]], \n",
        "                       [[1, 1, 1], \n",
        "                        [1, 1, 1], \n",
        "                        [1, 1, 1]], \n",
        "                       [[2, 0, 2], \n",
        "                        [0, 2, 0], \n",
        "                        [2, 0, 2]], \n",
        "                       ], \n",
        "                      [ \n",
        "                       [[5, 1, 5], \n",
        "                        [2, 1, 2], \n",
        "                        [5, 1, 5]],\n",
        "                       [[1, 1, 1], \n",
        "                        [1, 1, 1], \n",
        "                        [1, 1, 1]], \n",
        "                       [[2, 0, 2], \n",
        "                        [0, 2, 0], \n",
        "                        [2, 0, 2]], \n",
        "                       ] \n",
        "                      ]) \n",
        "print('Filters:', filters.shape)"
      ],
      "execution_count": 54,
      "outputs": [
        {
          "output_type": "stream",
          "name": "stdout",
          "text": [
            "Filters: (3, 3, 3, 3)\n"
          ]
        }
      ]
    },
    {
      "cell_type": "code",
      "metadata": {
        "id": "CerOZQvrqNgL"
      },
      "source": [
        "def Conv2D(X, filters, stride=1, padding=0):\n",
        "  n, c, h, w = X.shape\n",
        "  n_f, c_f, h_f, w_f = filters.shape\n",
        "\n",
        "  out_h = (h + padding * 2 - h_f) // stride + 1\n",
        "  out_w = (w + padding * 2 - w_f) // stride + 1\n",
        "  out = np.zeros([n, n_f, out_h, out_w])\n",
        "\n",
        "  # padding\n",
        "  if padding > 0:\n",
        "    X_pad = np.zeros([n, c, h + padding * 2, w + padding * 2])\n",
        "    X_pad[:, :, padding:padding*(-1), padding:padding*(-1)] = X\n",
        "    # X_pad = np.pad(X, pad_width=padding, mode='constant', constant_values=0)  # 를 응용할 수도 있음\n",
        "  else:\n",
        "    X_pad = X\n",
        "\n",
        "  for batch in range(n):  # 이미지 수 \n",
        "    for channel in range(n_f):  # 채널\n",
        "      for height in range(out_h): # 높이\n",
        "        height_s = height * stride\n",
        "        height_e = height_s + h_f\n",
        "\n",
        "        for width in range(out_w):  # 너비\n",
        "          width_s = width * stride\n",
        "          width_e = width_s + w_f\n",
        "          \n",
        "          out[batch, channel, height, width] = np.sum(X_pad[batch, :, height_s:height_e, width_s:width_e] * filters[channel])\n",
        "\n",
        "  return out"
      ],
      "execution_count": 59,
      "outputs": []
    },
    {
      "cell_type": "code",
      "metadata": {
        "colab": {
          "base_uri": "https://localhost:8080/"
        },
        "id": "tWS7Giovs71d",
        "outputId": "d77ae621-aac3-4cc6-975d-790a35854bec"
      },
      "source": [
        "out = Conv2D(X, filters, stride=1, padding=1)\n",
        "print(out.shape)\n",
        "print(out)"
      ],
      "execution_count": 65,
      "outputs": [
        {
          "output_type": "stream",
          "name": "stdout",
          "text": [
            "(2, 3, 5, 5)\n",
            "[[[[ 81. 121. 130. 110.  82.]\n",
            "   [104. 174. 157. 191. 111.]\n",
            "   [117. 158. 132. 153. 104.]\n",
            "   [ 92. 130. 104. 122.  78.]\n",
            "   [ 73.  81.  67.  63.  58.]]\n",
            "\n",
            "  [[ 46. 132.  85. 158.  56.]\n",
            "   [ 79. 197. 119. 244.  90.]\n",
            "   [ 93. 159. 168. 186. 121.]\n",
            "   [ 99. 165. 117. 159.  86.]\n",
            "   [ 68.  87. 120.  84.  75.]]\n",
            "\n",
            "  [[ 46. 132.  85. 158.  56.]\n",
            "   [ 79. 197. 119. 244.  90.]\n",
            "   [ 93. 159. 168. 186. 121.]\n",
            "   [ 99. 165. 117. 159.  86.]\n",
            "   [ 68.  87. 120.  84.  75.]]]\n",
            "\n",
            "\n",
            " [[[ 76. 124.  96. 123.  79.]\n",
            "   [126. 168. 178. 171. 112.]\n",
            "   [102. 161. 153. 164. 115.]\n",
            "   [ 95. 153. 166. 185. 124.]\n",
            "   [ 60.  87. 122. 118.  82.]]\n",
            "\n",
            "  [[ 76. 133. 108. 110.  68.]\n",
            "   [ 96. 188. 171. 178. 116.]\n",
            "   [129. 189. 204. 167. 114.]\n",
            "   [116. 168. 193. 200. 118.]\n",
            "   [ 89. 100. 143.  88.  82.]]\n",
            "\n",
            "  [[ 76. 133. 108. 110.  68.]\n",
            "   [ 96. 188. 171. 178. 116.]\n",
            "   [129. 189. 204. 167. 114.]\n",
            "   [116. 168. 193. 200. 118.]\n",
            "   [ 89. 100. 143.  88.  82.]]]]\n"
          ]
        }
      ]
    },
    {
      "cell_type": "code",
      "metadata": {
        "colab": {
          "base_uri": "https://localhost:8080/"
        },
        "id": "1JuUWU5es9Uu",
        "outputId": "a53711a4-8ef5-4a73-c124-9f1b2bf8c388"
      },
      "source": [
        "out = Conv2D(X, filters, stride=2, padding=3)\n",
        "print(out.shape)\n",
        "print(out)"
      ],
      "execution_count": 66,
      "outputs": [
        {
          "output_type": "stream",
          "name": "stdout",
          "text": [
            "(2, 3, 5, 5)\n",
            "[[[[  0.   0.   0.   0.   0.]\n",
            "   [  0.  81. 130.  82.   0.]\n",
            "   [  0. 117. 132. 104.   0.]\n",
            "   [  0.  73.  67.  58.   0.]\n",
            "   [  0.   0.   0.   0.   0.]]\n",
            "\n",
            "  [[  0.   0.   0.   0.   0.]\n",
            "   [  0.  46.  85.  56.   0.]\n",
            "   [  0.  93. 168. 121.   0.]\n",
            "   [  0.  68. 120.  75.   0.]\n",
            "   [  0.   0.   0.   0.   0.]]\n",
            "\n",
            "  [[  0.   0.   0.   0.   0.]\n",
            "   [  0.  46.  85.  56.   0.]\n",
            "   [  0.  93. 168. 121.   0.]\n",
            "   [  0.  68. 120.  75.   0.]\n",
            "   [  0.   0.   0.   0.   0.]]]\n",
            "\n",
            "\n",
            " [[[  0.   0.   0.   0.   0.]\n",
            "   [  0.  76.  96.  79.   0.]\n",
            "   [  0. 102. 153. 115.   0.]\n",
            "   [  0.  60. 122.  82.   0.]\n",
            "   [  0.   0.   0.   0.   0.]]\n",
            "\n",
            "  [[  0.   0.   0.   0.   0.]\n",
            "   [  0.  76. 108.  68.   0.]\n",
            "   [  0. 129. 204. 114.   0.]\n",
            "   [  0.  89. 143.  82.   0.]\n",
            "   [  0.   0.   0.   0.   0.]]\n",
            "\n",
            "  [[  0.   0.   0.   0.   0.]\n",
            "   [  0.  76. 108.  68.   0.]\n",
            "   [  0. 129. 204. 114.   0.]\n",
            "   [  0.  89. 143.  82.   0.]\n",
            "   [  0.   0.   0.   0.   0.]]]]\n"
          ]
        }
      ]
    }
  ]
}